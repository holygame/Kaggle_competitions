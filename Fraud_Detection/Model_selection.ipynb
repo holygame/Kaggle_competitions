{
 "cells": [
  {
   "cell_type": "markdown",
   "metadata": {},
   "source": [
    "# PART - 1\n",
    "  ## Loading the raw data "
   ]
  },
  {
   "cell_type": "code",
   "execution_count": 1,
   "metadata": {},
   "outputs": [],
   "source": [
    "import pandas as pd \n",
    "import warnings\n",
    "warnings.filterwarnings(\"ignore\")\n",
    "train_columns = ['ip', 'app', 'device', 'os', 'channel', 'click_time', 'is_attributed']\n",
    "test_columns  = ['ip', 'app', 'device', 'os', 'channel', 'click_time', 'click_id']\n",
    "dtypes = {\n",
    "        'ip'            : 'uint32',\n",
    "        'app'           : 'uint16',\n",
    "        'device'        : 'uint16',\n",
    "        'os'            : 'uint16',\n",
    "        'channel'       : 'uint16',\n",
    "        'is_attributed' : 'uint8',\n",
    "        'click_id'      : 'uint32'\n",
    "        }\n",
    "\n",
    "# Read the last lines because they are \"closer\" time-wise to the test set.\n",
    "train = pd.read_csv(\"D:/input/train.csv\", \n",
    "                    skiprows=range(1,153903891),\n",
    "                    nrows=30000000,\n",
    "                    usecols=train_columns, dtype=dtypes)\n",
    "test = pd.read_csv(\"D:/input/test.csv\" , usecols=test_columns, dtype=dtypes)\n",
    "validation = pd.read_csv(\"D:/input/train.csv\" , nrows = 10000000 , usecols=train_columns , dtype = dtypes)\n"
   ]
  },
  {
   "cell_type": "markdown",
   "metadata": {},
   "source": [
    "## Preprocessing and feature engineering"
   ]
  },
  {
   "cell_type": "code",
   "execution_count": 28,
   "metadata": {},
   "outputs": [
    {
     "name": "stdout",
     "output_type": "stream",
     "text": [
      "started preparing the data\n",
      "preparing train data\n",
      "Creating new time features: 'hour' , 'day', 'minutes' , 'secondes'...\n",
      "Feature Engineering \n",
      "\n",
      "1. Computing the number of clicks associated with a given IP address within each hour... \n",
      "Merging the channels data with the main data set...\n",
      "\n",
      "1. Computing the number of clicks associated with a given IP address within each minute... \n",
      "Merging the channels data with the main data set...\n",
      "\n",
      "1. Computing the number of clicks associated with a given IP address within each seconde... \n",
      "Merging the channels data with the main data set...\n",
      "\n",
      "2. Computing the number of clicks associated with a given IP address and app...\n",
      "Merging the channels data with the main data set...\n",
      "\n",
      "3. Computing the number of clicks associated with a given IP address, app, and os...\n",
      "Merging the channels data with the main data set...\n",
      "\n",
      "preparing test data\n",
      "Creating new time features: 'hour' , 'day', 'minutes' , 'secondes'...\n",
      "Feature Engineering \n",
      "\n",
      "1. Computing the number of clicks associated with a given IP address within each hour... \n",
      "Merging the channels data with the main data set...\n",
      "\n",
      "1. Computing the number of clicks associated with a given IP address within each minute... \n",
      "Merging the channels data with the main data set...\n",
      "\n",
      "1. Computing the number of clicks associated with a given IP address within each seconde... \n",
      "Merging the channels data with the main data set...\n",
      "\n",
      "2. Computing the number of clicks associated with a given IP address and app...\n",
      "Merging the channels data with the main data set...\n",
      "\n",
      "3. Computing the number of clicks associated with a given IP address, app, and os...\n",
      "Merging the channels data with the main data set...\n",
      "\n",
      "preparing validation data\n",
      "Creating new time features: 'hour' , 'day', 'minutes' , 'secondes'...\n",
      "Feature Engineering \n",
      "\n",
      "1. Computing the number of clicks associated with a given IP address within each hour... \n",
      "Merging the channels data with the main data set...\n",
      "\n",
      "1. Computing the number of clicks associated with a given IP address within each minute... \n",
      "Merging the channels data with the main data set...\n",
      "\n",
      "1. Computing the number of clicks associated with a given IP address within each seconde... \n",
      "Merging the channels data with the main data set...\n",
      "\n",
      "2. Computing the number of clicks associated with a given IP address and app...\n",
      "Merging the channels data with the main data set...\n",
      "\n",
      "3. Computing the number of clicks associated with a given IP address, app, and os...\n",
      "Merging the channels data with the main data set...\n",
      "\n",
      "finished in 4.04 minute\n"
     ]
    }
   ],
   "source": [
    "import gc\n",
    "import time\n",
    "\n",
    "def prep_data(df):\n",
    "    print(\"Creating new time features: 'hour' , 'day', 'minutes' , 'secondes'...\")\n",
    "    df['hour'] = pd.to_datetime(df.click_time).dt.hour.astype('uint8')\n",
    "    df['day'] = pd.to_datetime(df.click_time).dt.day.astype('uint8')\n",
    "    df['minute'] = pd.to_datetime(df.click_time).dt.minute.astype('uint8')\n",
    "    df['seconde'] = pd.to_datetime(df.click_time).dt.second.astype('uint8')\n",
    "    \n",
    "    print(\"Feature Engineering \\n\")\n",
    "    \n",
    "    print('1. Computing the number of clicks associated with a given IP address within each hour... ')\n",
    "    temp = df[['ip','day','hour','channel']].groupby(by=['ip','day',\n",
    "          'hour'])[['channel']].count().reset_index().rename(columns={'channel': 'hourly_clicks'})\n",
    "\n",
    "    df = df.merge(temp, on=['ip','day','hour'], how='left')\n",
    "    del temp\n",
    "    gc.collect()\n",
    "    print('1. Computing the number of clicks associated with a given IP address within each minute... ')\n",
    "    temp = df[['ip','day','hour','minute','channel']].groupby(by=['ip','day',\n",
    "          'hour','minute'])[['channel']].count().reset_index().rename(columns={'channel': 'click_per_minute'})\n",
    "    \n",
    "    df = df.merge(temp, on=['ip','day','hour','minute'], how='left')\n",
    "    del temp\n",
    "    gc.collect()\n",
    "    print('1. Computing the number of clicks associated with a given IP address within each seconde... ')\n",
    "    temp = df[['ip','day','hour','minute','seconde','channel']].groupby(by=['ip','day',\n",
    "          'hour','minute','seconde'])[['channel']].count().reset_index().rename(columns={'channel': 'click_per_seconde'})\n",
    "    \n",
    "    df = df.merge(temp, on=['ip','day','hour','minute','seconde'], how='left')\n",
    "    del temp\n",
    "    gc.collect()\n",
    "          \n",
    "          \n",
    "    print('2. Computing the number of clicks associated with a given IP address and app...')\n",
    "    n_channel = df[['ip','app', 'channel']].groupby(by=['ip', \n",
    "          'app'])[['channel']].count().reset_index().rename(columns={'channel': 'ip_app_count'})\n",
    "    \n",
    "    df = df.merge(n_channel, on=['ip','app'], how='left')\n",
    "    del n_channel\n",
    "    gc.collect()\n",
    "    print('3. Computing the number of clicks associated with a given IP address, app, and os...')\n",
    "    n_channel = df[['ip','app', 'os', 'channel']].groupby(by=['ip', 'app', \n",
    "          'os'])[['channel']].count().reset_index().rename(columns={'channel': 'ip_app_os_count'})       \n",
    "    df = df.merge(n_channel, on=['ip','app', 'os'], how='left')\n",
    "    del n_channel\n",
    "    gc.collect()\n",
    "        \n",
    "    df['hourly_clicks'] = df['hourly_clicks'].astype('uint16')\n",
    "    df['ip_app_count'] = df['ip_app_count'].astype('uint16')\n",
    "    df['ip_app_os_count'] = df['ip_app_os_count'].astype('uint16')\n",
    "    df['click_per_seconde'] = df['click_per_seconde'].astype('uint16')\n",
    "    df['click_per_minute'] = df['click_per_minute'].astype('uint16')\n",
    "   \n",
    "    df.drop(['click_time','day'], axis=1, inplace=True )\n",
    "    gc.collect()\n",
    "    from sklearn.preprocessing import LabelEncoder\n",
    "    df[['app','device','os', 'channel', 'hour']].apply(LabelEncoder().fit_transform)\n",
    "    \n",
    "    return df\n",
    "print('started preparing the data')\n",
    "start_time = time.time()\n",
    "print('preparing train data')\n",
    "train = prep_data(train)\n",
    "print('preparing test data')\n",
    "test = prep_data(test)\n",
    "print('preparing validation data')\n",
    "validation = prep_data(validation)\n",
    "print(\"finished in %0.2f minute\" % (((time.time()-start_time)/60)))"
   ]
  },
  {
   "cell_type": "code",
   "execution_count": 19,
   "metadata": {},
   "outputs": [
    {
     "data": {
      "text/plain": [
       "89"
      ]
     },
     "execution_count": 19,
     "metadata": {},
     "output_type": "execute_result"
    }
   ],
   "source": [
    "import gc\n",
    "import numpy as np\n",
    "X = train.drop('is_attributed' , axis =1)\n",
    "y = train['is_attributed']\n",
    "y = np.ravel(y)\n",
    "del train\n",
    "gc.collect()\n"
   ]
  },
  {
   "cell_type": "markdown",
   "metadata": {},
   "source": []
  },
  {
   "cell_type": "markdown",
   "metadata": {},
   "source": [
    "# Finding the best hyperparametres for our classifiers"
   ]
  },
  {
   "cell_type": "code",
   "execution_count": 5,
   "metadata": {},
   "outputs": [],
   "source": [
    "from sklearn.linear_model import LogisticRegression\n",
    "from sklearn.neighbors import KNeighborsClassifier\n",
    "from sklearn.model_selection import cross_val_score\n",
    "from sklearn.model_selection import cross_val_predict\n",
    "from sklearn.metrics import accuracy_score\n",
    "from sklearn.metrics import roc_auc_score\n",
    "from sklearn.metrics import roc_curve, auc\n",
    "from sklearn.model_selection import GridSearchCV\n",
    "from sklearn.model_selection import StratifiedKFold\n",
    "from sklearn.tree import DecisionTreeClassifier\n",
    "from sklearn.ensemble import RandomForestClassifier\n",
    "from sklearn.ensemble import GradientBoostingClassifier\n",
    "\n",
    "lr_clf = LogisticRegression()\n",
    "dt_clf = DecisionTreeClassifier()\n",
    "gbc_clf = GradientBoostingClassifier()\n",
    "rf_clf = RandomForestClassifier()\n",
    "\n",
    "clfs=[lr_clf,dt_clf, gbc_clf, rf_clf]\n",
    "\n",
    "\n",
    "LogisticPredictors = list(X) - ['ip']"
   ]
  },
  {
   "cell_type": "code",
   "execution_count": 16,
   "metadata": {},
   "outputs": [],
   "source": [
    "def best_hyperparams(clf, params, X, y, score,nsplit,random_state):\n",
    "    skf=StratifiedKFold(n_splits=nsplit)\n",
    "    clf = GridSearchCV(clf, param_grid=params, cv=skf,scoring=score  ,n_jobs=4)\n",
    "    \n",
    "    clf.fit(X, y)\n",
    "    print(\"The best parameters are %s with an average score over 5 folds of %0.2f\"\n",
    "      % (clf.best_params_, clf.best_score_))\n",
    "    \n",
    "    print('the best estimator',clf.best_estimator_)\n",
    "    return clf.best_estimator_"
   ]
  },
  {
   "cell_type": "code",
   "execution_count": 10,
   "metadata": {},
   "outputs": [],
   "source": [
    "import numpy as np\n",
    "parameters = [\n",
    "    [{'C':np.logspace(-3, 3, 10),'solver':['saga','liblinear'] ,'penalty':['l1','l2']}],#LogisticRegression\n",
    "    #[{'C':np.logspace(-2, 10, 5),'gamma':np.logspace(-2, 1, 3) ,'kernel':['rbf']}],#SVM\n",
    "    #[{'n_neighbors': [3,5,10,20,50]}], # KNN\n",
    "    [{'criterion':['gini','entropy'],\"min_samples_split\": [150,300,600,1200]}], # DecisionTree\n",
    "    [{'n_estimators': [25, 50, 75, 100, 150,200], 'learning_rate': [0.001,.01,.05,.1], 'max_depth': [1,2,3]}], # GBC\n",
    "    [{'n_estimators': [50,100,150,200], 'max_depth': [5,7,9,15,22]}] # RF\n",
    "] "
   ]
  },
  {
   "cell_type": "code",
   "execution_count": 18,
   "metadata": {},
   "outputs": [
    {
     "name": "stdout",
     "output_type": "stream",
     "text": [
      "The best parameters are {'C': 46.415888336127729, 'penalty': 'l1', 'solver': 'liblinear'} with an average score over 5 folds of 0.83\n",
      "the best estimator LogisticRegression(C=46.415888336127729, class_weight=None, dual=False,\n",
      "          fit_intercept=True, intercept_scaling=1, max_iter=100,\n",
      "          multi_class='ovr', n_jobs=1, penalty='l1', random_state=None,\n",
      "          solver='liblinear', tol=0.0001, verbose=0, warm_start=False)\n",
      "done in 4.65 hours\n",
      "----------------------------------------------------------------------------------------------------\n",
      "The best parameters are {'criterion': 'entropy', 'min_samples_split': 600} with an average score over 5 folds of 0.94\n",
      "the best estimator DecisionTreeClassifier(class_weight=None, criterion='entropy', max_depth=None,\n",
      "            max_features=None, max_leaf_nodes=None,\n",
      "            min_impurity_decrease=0.0, min_impurity_split=None,\n",
      "            min_samples_leaf=1, min_samples_split=600,\n",
      "            min_weight_fraction_leaf=0.0, presort=False, random_state=None,\n",
      "            splitter='best')\n",
      "done in 0.72 hours\n",
      "----------------------------------------------------------------------------------------------------\n",
      "The best parameters are {'learning_rate': 0.05, 'max_depth': 2, 'n_estimators': 150} with an average score over 5 folds of 0.95\n",
      "the best estimator GradientBoostingClassifier(criterion='friedman_mse', init=None,\n",
      "              learning_rate=0.05, loss='deviance', max_depth=2,\n",
      "              max_features=None, max_leaf_nodes=None,\n",
      "              min_impurity_decrease=0.0, min_impurity_split=None,\n",
      "              min_samples_leaf=1, min_samples_split=2,\n",
      "              min_weight_fraction_leaf=0.0, n_estimators=150,\n",
      "              presort='auto', random_state=None, subsample=1.0, verbose=0,\n",
      "              warm_start=False)\n",
      "done in 27.87 hours\n",
      "----------------------------------------------------------------------------------------------------\n",
      "The best parameters are {'max_depth': 9, 'n_estimators': 100} with an average score over 5 folds of 0.97\n",
      "the best estimator RandomForestClassifier(bootstrap=True, class_weight=None, criterion='gini',\n",
      "            max_depth=9, max_features='auto', max_leaf_nodes=None,\n",
      "            min_impurity_decrease=0.0, min_impurity_split=None,\n",
      "            min_samples_leaf=1, min_samples_split=2,\n",
      "            min_weight_fraction_leaf=0.0, n_estimators=100, n_jobs=1,\n",
      "            oob_score=False, random_state=None, verbose=0,\n",
      "            warm_start=False)\n",
      "done in 13.21 hours\n",
      "----------------------------------------------------------------------------------------------------\n"
     ]
    }
   ],
   "source": [
    "import time\n",
    "start_time = time.time()\n",
    "score = 'roc_auc'\n",
    "nsplit=5\n",
    "random_state=42\n",
    "best_models=[]\n",
    "for clf,params in zip(clfs,parameters):\n",
    "    start_time = time.time()\n",
    "    best_models.append(best_hyperparams(clf,params,X, y, score,nsplit,random_state))\n",
    "    print('done in %0.2f hours' % (((time.time() - start_time)/3600)))\n",
    "    print('-'*100)\n",
    "\n"
   ]
  },
  {
   "cell_type": "markdown",
   "metadata": {},
   "source": [
    "# Dimentiality Reduction"
   ]
  },
  {
   "cell_type": "code",
   "execution_count": 35,
   "metadata": {},
   "outputs": [
    {
     "data": {
      "text/plain": [
       "Text(0.5,1,'PVE by number of components')"
      ]
     },
     "execution_count": 35,
     "metadata": {},
     "output_type": "execute_result"
    },
    {
     "data": {
      "image/png": "[encoded data removed]",
      "text/plain": [
       "<matplotlib.figure.Figure at 0x2280c833f60>"
      ]
     },
     "metadata": {},
     "output_type": "display_data"
    }
   ],
   "source": [
    "from sklearn.preprocessing import StandardScaler\n",
    "from sklearn.decomposition import PCA\n",
    "pca_red = PCA(n_components=12)\n",
    "X2= scaler.fit_transform(X)\n",
    "pca_red.fit(X2)\n",
    "plt.plot(pca_red.explained_variance_ratio_ )\n",
    "plt.xlabel('number of components')\n",
    "plt.ylabel('PVE')\n",
    "plt.title('PVE by number of components')"
   ]
  },
  {
   "cell_type": "code",
   "execution_count": 36,
   "metadata": {},
   "outputs": [
    {
     "name": "stdout",
     "output_type": "stream",
     "text": [
      "best params for PCA+KNN are: {'knn__n_neighbors': 15, 'reduce_dim__n_components': 8} with a score of 0.91\n",
      "done in 8.07 hours\n"
     ]
    }
   ],
   "source": [
    "from sklearn.pipeline import Pipeline\n",
    "pca = PCA()\n",
    "pipe = Pipeline([\n",
    "    ('reduce_dim', pca),\n",
    "    ('knn', knn_clf)])\n",
    "\n",
    "start_time = time.time()\n",
    "param_grid = dict(reduce_dim__n_components=[2,3,5,8,10], knn__n_neighbors=[5,10,15,20])\n",
    "grid = GridSearchCV(pipe, cv=5, n_jobs=-1, param_grid=param_grid)\n",
    "grid.fit(X,y)\n",
    "best_models.append(grid.best_estimator_)\n",
    "print('best params for PCA+KNN are: %s with a score of %s ' %(grid.best_params_, grid.best_score_))\n",
    "print('done in %0.2f hours' % ((time.time() - start_time)/3600)"
   ]
  },
  {
   "cell_type": "code",
   "execution_count": 29,
   "metadata": {},
   "outputs": [],
   "source": [
    "Ids = test['click_id']\n",
    "test_id = test.drop('click_id', axis = 1)\n",
    "del test\n",
    "gc.collect()\n",
    "\n",
    "lr_sub = pd.DataFrame()\n",
    "knn_sub = pd.DataFrame()\n",
    "dt_sub = pd.DataFrame()\n",
    "gbm_sub=pd.DataFrame()\n",
    "rf_sub=pd.DataFrame()\n",
    "\n",
    "subs = [lr_sub,knn_sub,dt_sub,gbm_sub,rf_sub]\n",
    "names = ['LogisticRegression','KNN','DecisionTree','GBM','RandomForest']\n",
    "\n",
    "\n",
    "def predict_and_submit(clf , test_df , sub , name):\n",
    "    sub['click_id'] = Ids\n",
    "    print(\"Predicting using the best estimator found for %s\" % name)\n",
    "    sub['is_attributed'] = clf.predict_proba(test_df)[:,1]\n",
    "    print(\"writing the csv file...\")\n",
    "    sub.to_csv('sub_%s.csv'%(name),index=False,float_format='%.9f')\n",
    "    del sub\n",
    "    gc.collect()"
   ]
  },
  {
   "cell_type": "code",
   "execution_count": 37,
   "metadata": {
    "scrolled": true
   },
   "outputs": [
    {
     "name": "stdout",
     "output_type": "stream",
     "text": [
      "Predicting using the best estimator found for LogisticRegression\n",
      "writing the csv file...\n",
      "done in 4.91 minutes\n",
      "Predicting using the best estimator found for DecisionTree\n",
      "writing the csv file...\n",
      "done in 4.76 minutes\n",
      "Predicting using the best estimator found for GBM\n",
      "writing the csv file...\n",
      "done in 5.01 minutes\n",
      "Predicting using the best estimator found for RandomForest\n",
      "writing the csv file...\n",
      "done in 7.57 minutes\n",
      "Predicting using the best estimator found for KNN_pca\n",
      "writing the csv file...\n",
      "done in 15.13 minutes\n"
     ]
    }
   ],
   "source": [
    "lr_sub = pd.DataFrame()\n",
    "dt_sub = pd.DataFrame()\n",
    "gbm_sub=pd.DataFrame()\n",
    "rf_sub=pd.DataFrame()\n",
    "knn_sub = pd.DataFrame()\n",
    "\n",
    "subs = [lr_sub,dt_sub,gbm_sub,rf_sub,knn_sub]\n",
    "names = ['LogisticRegression','DecisionTree','GBM','RandomForest','KNN_pca']\n",
    "i=0\n",
    "for trained_model,sub,name in zip(best_models,subs,names):\n",
    "    start_time = time.time()\n",
    "    predict_and_submit(trained_model,test_id,sub,name)\n",
    "    print(\"done in %0.2f minutes\" % (((time.time()-start_time)/60)))\n",
    "    \n",
    "    "
   ]
  },
  {
   "cell_type": "code",
   "execution_count": 13,
   "metadata": {},
   "outputs": [
    {
     "data": {
      "image/png": "[encoded data removed]",
      "text/plain": [
       "<matplotlib.figure.Figure at 0x1f7827d9a90>"
      ]
     },
     "metadata": {},
     "output_type": "display_data"
    }
   ],
   "source": [
    "import matplotlib.pyplot as plt\n",
    "%matplotlib inline\n",
    "plt.figure(figsize=(10,6))\n",
    "plt.title('Feature Importances')\n",
    "feat_importances = pd.Series(clf_rf.feature_importances_, index=X.columns).sort_values()\n",
    "feat_importances.plot(kind='barh')\n",
    "plt.show()"
   ]
  },
  {
   "cell_type": "code",
   "execution_count": 109,
   "metadata": {},
   "outputs": [
    {
     "data": {
      "text/plain": [
       "<matplotlib.figure.Figure at 0x2d992d1ce48>"
      ]
     },
     "metadata": {},
     "output_type": "display_data"
    },
    {
     "data": {
      "image/png": "[encoded data removed]",
      "text/plain": [
       "<matplotlib.figure.Figure at 0x2d99010d438>"
      ]
     },
     "metadata": {},
     "output_type": "display_data"
    }
   ],
   "source": [
    "\n",
    "import scikitplot as skplt\n",
    "import matplotlib.pyplot as plt\n",
    "\n",
    "validation = pd.read_csv(\"D:/input/train.csv\" ,skiprows=range(1,120000000), nrows = 20000000 , usecols=train_columns, dtype=dtypes)\n",
    "validation = prep_data(validation)\n",
    "y_true = validation['is_attributed']\n",
    "validation.drop('is_attributed' , axis = 1 , inplace=True)\n",
    "y_probas = clf_rf.predict_proba(validation)\n",
    "skplt.metrics.plot_roc_curve(y_true, y_probas , figsize=(12,6 ))"
   ]
  },
  {
   "cell_type": "markdown",
   "metadata": {},
   "source": [
    "# LightGBM"
   ]
  },
  {
   "cell_type": "code",
   "execution_count": 72,
   "metadata": {},
   "outputs": [
    {
     "name": "stdout",
     "output_type": "stream",
     "text": [
      "The best parameters are {'learning_rate': 0.15, 'max_depth': 3, 'num_boost_round': 500, 'num_leaves': 7, 'scale_pos_weight': 99.82} with an average score over 5 folds of 0.9900\n",
      "done in 10.81 hours\n"
     ]
    }
   ],
   "source": [
    "from sklearn.model_selection import GridSearchCV\n",
    "import time\n",
    "parameters = [{\n",
    "    'learning_rate': [0.05,0.1,0.15],\n",
    "    'num_leaves': [5,6,7],  # lower than 2^max_depth - 1\n",
    "    'max_depth': [2,3,4],  # -1 means no limit\n",
    "    'num_boost_round' : [300,500,700], # number of iterations ( trees )\n",
    "    'scale_pos_weight':[99.82], # because training data is extremely unbalanced \n",
    "}]  \n",
    "start_time = time.time()\n",
    "predictors = ['app','device','os', 'channel', 'hour', \n",
    "              'hourly_clicks','click_per_minute','click_per_seconde','ip_app_count','ip_app_os_count']\n",
    "categorical = ['app', 'device', 'os', 'channel', 'hour', 'day' ,'minute','seconde']\n",
    "\n",
    "clf_lgb = lgb.LGBMClassifier(objective='binary',metrics='auc' , categorical_feature=[1,2,3,4,5,6],feature_name=predictors)\n",
    "grid = GridSearchCV(clf_lgb, cv=5, n_jobs=4, param_grid=parameters)\n",
    "grid.fit(X,y)\n",
    "print(\"The best parameters are %s with an average score over 5 folds of %0.4f\" % (grid.best_params_, grid.best_score_))\n",
    "    \n",
    "print('done in %0.2f hours' % ((time.time() - start_time)/3600))"
   ]
  },
  {
   "cell_type": "code",
   "execution_count": 113,
   "metadata": {},
   "outputs": [
    {
     "name": "stdout",
     "output_type": "stream",
     "text": [
      "Predicting using the best estimator found for lightgbm_FinalVersion\n",
      "writing the csv file...\n",
      "done in 3.91 minutes\n"
     ]
    }
   ],
   "source": [
    " predict_and_submit(clf_lgb,test_id,'gbm','lightgbm_FinalVersion')"
   ]
  },
  {
   "cell_type": "code",
   "execution_count": null,
   "metadata": {},
   "outputs": [],
   "source": []
  }
 ],
 "metadata": {
  "kernelspec": {
   "display_name": "Python 3",
   "language": "python",
   "name": "python3"
  },
  "language_info": {
   "codemirror_mode": {
    "name": "ipython",
    "version": 3
   },
   "file_extension": ".py",
   "mimetype": "text/x-python",
   "name": "python",
   "nbconvert_exporter": "python",
   "pygments_lexer": "ipython3",
   "version": "3.6.4"
  }
 },
 "nbformat": 4,
 "nbformat_minor": 2
}
